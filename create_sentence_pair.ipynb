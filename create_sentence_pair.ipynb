{
 "cells": [
  {
   "cell_type": "code",
   "execution_count": 17,
   "metadata": {},
   "outputs": [],
   "source": [
    "from pathlib import Path\n",
    "import json\n",
    "import os"
   ]
  },
  {
   "cell_type": "code",
   "execution_count": 18,
   "metadata": {},
   "outputs": [],
   "source": [
    "# find duplicate segments\n",
    "def find_segments(lst: list, time: int, interval: int = 100) -> list:\n",
    "    result = []\n",
    "    for seg in lst:\n",
    "        if abs(seg[\"tStartMs\"] - time) <= interval:\n",
    "            result.append(seg[\"segs\"][0][\"utf8\"])\n",
    "    return result\n",
    "\n",
    "def create_translation_pairs(source_path, target_path, overlap_time_window: int = 100) -> list:\n",
    "    source_events = json.load(open(source_path, \"r\"))[\"events\"]\n",
    "    target_events = json.load(open(target_path, \"r\"))[\"events\"]\n",
    "    translation_pairs = []\n",
    "    for event in source_events:\n",
    "        tStartMs = event[\"tStartMs\"]\n",
    "        target_text = find_segments(target_events, tStartMs, overlap_time_window)\n",
    "        if target_text != []:\n",
    "            pair = {\n",
    "                \"en\": target_text,\n",
    "                \"th\": event[\"segs\"][0][\"utf8\"]\n",
    "            }\n",
    "            translation_pairs.append(pair)\n",
    "    return translation_pairs\n"
   ]
  },
  {
   "cell_type": "code",
   "execution_count": 19,
   "metadata": {},
   "outputs": [
    {
     "data": {
      "text/plain": [
       "224"
      ]
     },
     "execution_count": 19,
     "metadata": {},
     "output_type": "execute_result"
    }
   ],
   "source": [
    "# create sample pair\n",
    "result = create_translation_pairs(\"data/th-en-subtitles/@Bearhugsk/D_PB8geeQRE/th.json3\", \"data/th-en-subtitles/@Bearhugsk/D_PB8geeQRE/en.json3\", 500)\n",
    "len(result)"
   ]
  },
  {
   "cell_type": "code",
   "execution_count": 20,
   "metadata": {},
   "outputs": [
    {
     "data": {
      "text/plain": [
       "[{'en': ['Intense flavors.',\n",
       "   '- Really intense, but tasty.\\n- Intense flavors of Ko Bua.'],\n",
       "  'th': '- เข้มข้นมาก รสชาติที่นี่ร้านกอบัว \\n- เข้มข้นมาก แต่อร่อยนะ'},\n",
       " {'en': ['[She keeps ordering non-stop.]',\n",
       "   'Let’s try.\\n[She keeps ordering non-stop.]'],\n",
       "  'th': 'ลองดูเนอะ'}]"
      ]
     },
     "execution_count": 20,
     "metadata": {},
     "output_type": "execute_result"
    }
   ],
   "source": [
    "# select only sentences pair with multiple translations\n",
    "multi_translation = []\n",
    "multi_translation_num = 0\n",
    "for r in result:\n",
    "    if len(r[\"en\"]) > 1:\n",
    "        multi_translation.append(r)\n",
    "\n",
    "multi_translation"
   ]
  },
  {
   "attachments": {},
   "cell_type": "markdown",
   "metadata": {},
   "source": [
    "# Run on multiple file"
   ]
  },
  {
   "cell_type": "code",
   "execution_count": 33,
   "metadata": {},
   "outputs": [
    {
     "data": {
      "text/plain": [
       "528"
      ]
     },
     "execution_count": 33,
     "metadata": {},
     "output_type": "execute_result"
    }
   ],
   "source": [
    "subtitle_path = Path(\"data/th-en-subtitles\")\n",
    "video_ids = list(subtitle_path.glob(\"*/*\"))\n",
    "len(video_ids)"
   ]
  },
  {
   "cell_type": "code",
   "execution_count": 31,
   "metadata": {},
   "outputs": [
    {
     "data": {
      "text/plain": [
       "37592"
      ]
     },
     "execution_count": 31,
     "metadata": {},
     "output_type": "execute_result"
    }
   ],
   "source": [
    "# languages = [\"th\", \"en\"]\n",
    "en_substitutes = [\"en-US\", \"en-GB\"]\n",
    "translation_pairs = []\n",
    "for video_id in video_ids:\n",
    "    # folder_path = subtitle_path.joinpath(video_id)\n",
    "    th_file_path = video_id.joinpath(\"th.json3\")\n",
    "    en_file_path = video_id.joinpath(\"en.json3\")\n",
    "    # if en is not available it may exist as en-US etc.\n",
    "    if not os.path.isfile(en_file_path):\n",
    "        for sub in en_substitutes:\n",
    "            en_file_path = video_id.joinpath(f\"{sub}.json3\")\n",
    "            if os.path.isfile(en_file_path):\n",
    "                break\n",
    "    \n",
    "    translation_pairs += create_translation_pairs(th_file_path, en_file_path, 300)\n",
    "\n",
    "len(translation_pairs)"
   ]
  },
  {
   "cell_type": "code",
   "execution_count": 36,
   "metadata": {},
   "outputs": [
    {
     "data": {
      "text/plain": [
       "[{'en': [\"We're left abandoned in the middle of the desert\"],\n",
       "  'th': 'เราถูกทิ้งกลางทะเลทราย'},\n",
       " {'en': ['sand,'], 'th': 'ทราย!!'},\n",
       " {'en': ['and SAND everywhere!'], 'th': 'แล้วก็ทรายรอบตัว'},\n",
       " {'en': [\"It's blazing hot in the afternoon,\"],\n",
       "  'th': 'กลางวันโคตรร้อนถึง 50 องศา'},\n",
       " {'en': ['and extremely cold at night!'], 'th': 'กลางคืนก็หนาวสุด ๆ'},\n",
       " {'en': [\"Let's see if we can survive this extreme survival in the desert challenge\"],\n",
       "  'th': 'มาดูกันว่าเราจะรอดพ้น'},\n",
       " {'en': [\"Before we start, don't forget to subscribe to our channel!\"],\n",
       "  'th': 'และก่อนเริ่มอย่าลืมกดไลก์ กดติดตาม'},\n",
       " {'en': ['We gotta choose where to set up the camp'],\n",
       "  'th': 'เราต้องเลือกว่าเราจะตั้งแคมป์ที่ไหน'},\n",
       " {'en': ['Yesterday when we play Last-to-Leave-the-Circle Challenge'],\n",
       "  'th': 'เมื่อวานตอนที่เราแข่งอยู่ในกรอบ'},\n",
       " {'en': ['we were on top of the hill.'], 'th': 'เราอยู่ข้างบนเนิน'}]"
      ]
     },
     "execution_count": 36,
     "metadata": {},
     "output_type": "execute_result"
    }
   ],
   "source": [
    "translation_pairs[:10]"
   ]
  },
  {
   "cell_type": "code",
   "execution_count": 37,
   "metadata": {},
   "outputs": [
    {
     "data": {
      "text/plain": [
       "35"
      ]
     },
     "execution_count": 37,
     "metadata": {},
     "output_type": "execute_result"
    }
   ],
   "source": [
    "# select only sentences pair with multiple translations\n",
    "multi_translation = []\n",
    "multi_translation_num = 0\n",
    "for r in translation_pairs:\n",
    "    if len(r[\"en\"]) > 1:\n",
    "        multi_translation.append(r)\n",
    "\n",
    "len(multi_translation)"
   ]
  },
  {
   "cell_type": "code",
   "execution_count": 39,
   "metadata": {},
   "outputs": [
    {
     "data": {
      "text/plain": [
       "[{'en': ['What?', 'I just saw something run downhill.'],\n",
       "  'th': 'ผมเห็นมีตัวอะไรวิ่งไปเมื่อกี้เนี่ย'},\n",
       " {'en': ['(laughs)', 'What was that?'], 'th': 'อะไรวะ'},\n",
       " {'en': ['(laughs)', 'We found him!'], 'th': '- เจอแล้ว\\n- ขาอ่อนเลย'},\n",
       " {'en': ['Ah. Right.',\n",
       "   '- Or how to make it represent BEARHOUSE, how to make it beautiful,\\n- Ah.'],\n",
       "  'th': 'ให้มันเป็น BEARHOUSE ให้มันสวย'},\n",
       " {'en': ['Aha.',\n",
       "   \"Let's go to that area instead. From the farthest right to the farthest left area.\"],\n",
       "  'th': 'เราไปมุมนู้นก่อนไหม'},\n",
       " {'en': ['(chuckles)', \"I'm scared\"], 'th': 'ไม่ กูกลัว'},\n",
       " {'en': ['Yeah.', \"Yeah. Let's go there.\"], 'th': '- ไป\\n- ไปศาลาก่อน ไปจูน'},\n",
       " {'en': ['Yes', 'So, there are spicy food, fresh vegetables'], 'th': 'ค่ะ'},\n",
       " {'en': ['(laughs)', 'What a copycat.'], 'th': 'ขี้ลอกว่ะ ทำก่อนเรา'},\n",
       " {'en': ['What?', 'Servo'], 'th': 'อะไรนะ'}]"
      ]
     },
     "execution_count": 39,
     "metadata": {},
     "output_type": "execute_result"
    }
   ],
   "source": [
    "multi_translation[:10]"
   ]
  },
  {
   "cell_type": "code",
   "execution_count": null,
   "metadata": {},
   "outputs": [],
   "source": []
  }
 ],
 "metadata": {
  "kernelspec": {
   "display_name": "Python 3",
   "language": "python",
   "name": "python3"
  },
  "language_info": {
   "codemirror_mode": {
    "name": "ipython",
    "version": 3
   },
   "file_extension": ".py",
   "mimetype": "text/x-python",
   "name": "python",
   "nbconvert_exporter": "python",
   "pygments_lexer": "ipython3",
   "version": "3.10.6"
  },
  "orig_nbformat": 4
 },
 "nbformat": 4,
 "nbformat_minor": 2
}
