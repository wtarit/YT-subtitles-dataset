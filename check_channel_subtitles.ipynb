{
 "cells": [
  {
   "cell_type": "code",
   "execution_count": 1,
   "metadata": {},
   "outputs": [],
   "source": [
    "import json\n",
    "import requests\n",
    "from bs4 import BeautifulSoup\n",
    "from tqdm.auto import tqdm"
   ]
  },
  {
   "attachments": {},
   "cell_type": "markdown",
   "metadata": {},
   "source": [
    "`get_number_of_video_with_subs` query youtube search with channel name in search field with `Subtitles/CC` in features filters and count how many video is from the channel queried.  \n",
    "Note: In the initial page load, Youtube will only return a certain amount of video (usually 20), so the number returned here is not the number of video in the channel with subtitles. It is only used to check if the channel has a video with subtitles or not."
   ]
  },
  {
   "cell_type": "code",
   "execution_count": 2,
   "metadata": {},
   "outputs": [],
   "source": [
    "def get_number_of_video_with_subs(channel_username):\n",
    "    # Send a request to the web page and get its HTML content\n",
    "    url = f\"https://www.youtube.com/results?search_query={channel_username}&sp=EgIoAQ%253D%253D\"\n",
    "    response = requests.get(url)\n",
    "    html_content = response.text\n",
    "\n",
    "    # Parse the HTML content using Beautiful Soup\n",
    "    soup = BeautifulSoup(html_content, features='html.parser')\n",
    "\n",
    "    # Extract the JavaScript code containing the variable you want to scrape\n",
    "    js_code = soup.find_all('script')\n",
    "    # Loop through all the script tags and extract the value of the ytInitialData variable\n",
    "    for script in js_code:\n",
    "        if script.string != None and 'var ytInitialData' in script.string:\n",
    "            # Extract the variable value from the JavaScript code and convert it to a dictionary\n",
    "            data = json.loads(script.string.split(\"=\", 1)[1][:-1])\n",
    "            break\n",
    "\n",
    "    # count number of video from the selected channel\n",
    "    t1 = data[\"contents\"][\"twoColumnSearchResultsRenderer\"][\"primaryContents\"][\"sectionListRenderer\"][\"contents\"][0]\n",
    "    number_of_video = 0\n",
    "    video_list = t1[\"itemSectionRenderer\"][\"contents\"]\n",
    "    if len(video_list) < 2:\n",
    "        return 0\n",
    "    for video in video_list:\n",
    "        # Search Results may contain ads so we need to skip them\n",
    "        if \"videoRenderer\" not in video.keys():\n",
    "            continue\n",
    "        # extract channel username\n",
    "        extracted_channel_username = video[\"videoRenderer\"][\"longBylineText\"][\"runs\"][0][\"navigationEndpoint\"][\"browseEndpoint\"][\"canonicalBaseUrl\"][1:]\n",
    "        if extracted_channel_username.lower() == channel_username.lower():\n",
    "            number_of_video += 1\n",
    "\n",
    "    return number_of_video\n"
   ]
  },
  {
   "cell_type": "code",
   "execution_count": 3,
   "metadata": {},
   "outputs": [
    {
     "data": {
      "text/plain": [
       "1"
      ]
     },
     "execution_count": 3,
     "metadata": {},
     "output_type": "execute_result"
    }
   ],
   "source": [
    "get_number_of_video_with_subs(\"@truevisionsofficial\")"
   ]
  },
  {
   "cell_type": "code",
   "execution_count": 4,
   "metadata": {},
   "outputs": [
    {
     "data": {
      "application/vnd.jupyter.widget-view+json": {
       "model_id": "030d42466bcc43359e0cbd15706c7868",
       "version_major": 2,
       "version_minor": 0
      },
      "text/plain": [
       "  0%|          | 0/100 [00:00<?, ?it/s]"
      ]
     },
     "metadata": {},
     "output_type": "display_data"
    }
   ],
   "source": [
    "# extract channel id from url\n",
    "with open(\"data_sample/channelcrawler_th_top100.txt\", \"r\") as f:\n",
    "    channel_url_list = f.read().split()\n",
    "\n",
    "channel_username_list = [churl.rsplit(\"/\", 1)[1] for churl in channel_url_list]\n",
    "\n",
    "result = {}\n",
    "ch_with_subs = []\n",
    "for channel_username in tqdm(channel_username_list):\n",
    "    try:\n",
    "        num_vids_with_subs = get_number_of_video_with_subs(channel_username)\n",
    "    except Exception as e:\n",
    "        print(e)\n",
    "        print(channel_username)\n",
    "    result[channel_username] = num_vids_with_subs\n",
    "    if num_vids_with_subs > 10:\n",
    "        ch_with_subs.append(channel_username)\n"
   ]
  },
  {
   "cell_type": "code",
   "execution_count": 5,
   "metadata": {},
   "outputs": [
    {
     "data": {
      "text/plain": [
       "{'@mtr9999': 0,\n",
       " '@108lifeth': 0,\n",
       " '@skizztv56': 0,\n",
       " '@bongamerz': 0,\n",
       " '@morningnewstv3': 0,\n",
       " '@bosskerati': 20,\n",
       " '@zbingz': 20,\n",
       " '@matichontv': 0,\n",
       " '@nontakans': 0,\n",
       " '@notisgodchannel': 0,\n",
       " '@genelab': 11,\n",
       " '@hampmn': 0,\n",
       " '@kiddeetv': 0,\n",
       " '@4sthailand': 0,\n",
       " '@deksorkrao': 4,\n",
       " '@workpointofficial': 19,\n",
       " '@oganic': 0,\n",
       " '@thaich8news': 0,\n",
       " '@skylaxy': 1,\n",
       " '@familygangofficial': 0,\n",
       " '@jokerfamily2015': 0,\n",
       " '@peacheatlaek': 20,\n",
       " '@kidssongnamo': 0,\n",
       " '@aoffymaxim': 1,\n",
       " '@overact': 7,\n",
       " '@hehaatvchannel': 0,\n",
       " '@janesergo': 0,\n",
       " '@ch3thailand': 15,\n",
       " '@mr.b-2023': 0,\n",
       " '@tvthunderofficial': 0,\n",
       " '@topbytoast': 0,\n",
       " '@tonmaimusicstudio': 2,\n",
       " '@oppathuchy': 16,\n",
       " '@teromusic': 12,\n",
       " '@wiwawawowtv': 0,\n",
       " '@manshowhowweare': 0,\n",
       " '@one31official': 0,\n",
       " '@newxlives': 0,\n",
       " '@smallroomofficial': 3,\n",
       " '@thanakornzaadoat': 0,\n",
       " '@fairydollchannel': 0,\n",
       " '@ruok1': 0,\n",
       " '@whattheducktube': 0,\n",
       " '@wongklomfc1': 0,\n",
       " '@iambuilder': 0,\n",
       " '@tigerzap': 0,\n",
       " '@tintinandthegang': 0,\n",
       " '@majorgroup': 1,\n",
       " '@mcotofficial': 0,\n",
       " '@markwiens': 9,\n",
       " '@primitivetool': 0,\n",
       " '@epicpbthgame': 0,\n",
       " '@brightsidethai': 0,\n",
       " '@gnest_official': 0,\n",
       " '@mymatenate': 19,\n",
       " '@layzaracing': 0,\n",
       " '@pptvhd36': 0,\n",
       " '@thesurvivalwild6023': 0,\n",
       " '@artairsoftgun': 0,\n",
       " '@theinnerstudio': 0,\n",
       " '@gindaiaroiduay': 0,\n",
       " '@youngohm': 0,\n",
       " '@thekidssong': 0,\n",
       " '@zommarie': 0,\n",
       " '@topsibthailand': 0,\n",
       " '@urboytjchannel': 0,\n",
       " '@samsearnofficial': 20,\n",
       " '@wildernesstvchannel': 0,\n",
       " '@thetrollcambodia': 0,\n",
       " '@thaipbs': 17,\n",
       " '@morplanamfha905': 0,\n",
       " '@kidstvthailand': 0,\n",
       " '@spicydisc': 19,\n",
       " '@yamatumo': 0,\n",
       " '@khotkool': 1,\n",
       " '@5mc_thai': 0,\n",
       " '@bnk48officialyoutube': 0,\n",
       " '@whitemusic': 5,\n",
       " '@fedfeclip': 12,\n",
       " '@kristinoolsen': 0,\n",
       " '@santastudio3099': 0,\n",
       " '@heartrock': 0,\n",
       " '@gmmtv': 20,\n",
       " '@60minuteslongplay': 0,\n",
       " '@indysongkids': 20,\n",
       " '@beerbanna': 0,\n",
       " '@haithongkhamrecord': 0,\n",
       " '@kutchaxd': 0,\n",
       " '@sunbeary': 18,\n",
       " '@grammybig': 0,\n",
       " '@ananped': 0,\n",
       " '@thairealhd': 0,\n",
       " '@truevisionsofficial': 1,\n",
       " '@rsfriends': 5,\n",
       " '@eedponglang': 0,\n",
       " '@rachyo': 0,\n",
       " '@aeaeok': 0,\n",
       " '@pjygamer': 0,\n",
       " '@tnamcot': 0,\n",
       " '@aporvlog': 0}"
      ]
     },
     "execution_count": 5,
     "metadata": {},
     "output_type": "execute_result"
    }
   ],
   "source": [
    "result"
   ]
  },
  {
   "cell_type": "code",
   "execution_count": 6,
   "metadata": {},
   "outputs": [
    {
     "data": {
      "text/plain": [
       "16"
      ]
     },
     "execution_count": 6,
     "metadata": {},
     "output_type": "execute_result"
    }
   ],
   "source": [
    "len(ch_with_subs)"
   ]
  },
  {
   "cell_type": "code",
   "execution_count": 7,
   "metadata": {},
   "outputs": [
    {
     "data": {
      "text/plain": [
       "['@bosskerati',\n",
       " '@zbingz',\n",
       " '@genelab',\n",
       " '@workpointofficial',\n",
       " '@peacheatlaek',\n",
       " '@ch3thailand',\n",
       " '@oppathuchy',\n",
       " '@teromusic',\n",
       " '@mymatenate',\n",
       " '@samsearnofficial',\n",
       " '@thaipbs',\n",
       " '@spicydisc',\n",
       " '@fedfeclip',\n",
       " '@gmmtv',\n",
       " '@indysongkids',\n",
       " '@sunbeary']"
      ]
     },
     "execution_count": 7,
     "metadata": {},
     "output_type": "execute_result"
    }
   ],
   "source": [
    "ch_with_subs"
   ]
  },
  {
   "attachments": {},
   "cell_type": "markdown",
   "metadata": {},
   "source": [
    "# Write Channel URLs to text file"
   ]
  },
  {
   "cell_type": "code",
   "execution_count": 8,
   "metadata": {},
   "outputs": [],
   "source": [
    "with open(\"channel_with_subs.txt\", \"w\") as f:\n",
    "    ch_with_subs_url = [f\"https://youtube.com/{ch}\" for ch in ch_with_subs]\n",
    "    f.write(\"\\n\".join(ch_with_subs_url))"
   ]
  },
  {
   "cell_type": "code",
   "execution_count": null,
   "metadata": {},
   "outputs": [],
   "source": []
  }
 ],
 "metadata": {
  "kernelspec": {
   "display_name": "Python 3",
   "language": "python",
   "name": "python3"
  },
  "language_info": {
   "codemirror_mode": {
    "name": "ipython",
    "version": 3
   },
   "file_extension": ".py",
   "mimetype": "text/x-python",
   "name": "python",
   "nbconvert_exporter": "python",
   "pygments_lexer": "ipython3",
   "version": "3.10.6"
  },
  "orig_nbformat": 4
 },
 "nbformat": 4,
 "nbformat_minor": 2
}
